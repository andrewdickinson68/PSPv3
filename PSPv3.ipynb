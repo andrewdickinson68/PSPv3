{
 "cells": [
  {
   "cell_type": "code",
   "execution_count": 1,
   "metadata": {},
   "outputs": [
    {
     "data": {
      "application/vnd.jupyter.widget-view+json": {
       "model_id": "566f174b51ef4ef5a4e02e110337a8e1",
       "version_major": 2,
       "version_minor": 0
      },
      "text/plain": [
       "interactive(children=(Dropdown(description='PSP', options=('PSP-001', 'PSP-002', 'PSP-003', 'PSP-004', 'PSP-00…"
      ]
     },
     "metadata": {},
     "output_type": "display_data"
    }
   ],
   "source": [
    "%matplotlib inline\n",
    "\n",
    "from ipywidgets import interactive\n",
    "import ipywidgets as widgets\n",
    "import pandas as pd\n",
    "#import numpy as np\n",
    "from IPython.display import clear_output\n",
    "import matplotlib.pyplot as plt\n",
    "\n",
    "import matplotlib.pyplot as plt\n",
    "import matplotlib.pyplot as pltBA\n",
    "\n",
    "#filepath = 'C:/Users/dicki/Dropbox/Dropbox/Notebooks/PSP/PlotMeas5.csv'\n",
    "url = 'https://raw.githubusercontent.com/andrewdickinson68/PSPv3/master/PlotMeas5.csv'\n",
    "df = pd.read_csv(url,sep=\",\")\n",
    "\n",
    "#filepath = 'PlotMeas5.csv'\n",
    "#df = pd.read_csv(filepath)\n",
    "options = sorted(list(set(df['PSPID'])))\n",
    "\n",
    "def selectPSP(PSP):\n",
    "    select_plot = df.loc[df['PSPID'] == PSP]\n",
    "#   select_plot is a dataframe with 1 row    \n",
    "    plt.plot(select_plot.Age, select_plot.MDH, \"-b\", label=\"MDH\", marker='o')\n",
    "    plt.plot(select_plot.Age, select_plot.BA, \"-r\", label=\"BA\", marker = '^')\n",
    "    plt.legend(loc=\"upper left\")\n",
    "    plt.ylabel('MDH (m) / BA (m2/ha)')\n",
    "    plt.xlabel('Age (years)')\n",
    "    plt.legend()\n",
    "    psp_title = select_plot.iloc[0,0] + \", \" + select_plot.iloc[0,3] + \", \" + select_plot.iloc[0,2] + \", \" + select_plot.iloc[0,5] + \", \" \"Excluded =\" + \" \" + str(select_plot.iloc[0,4])\n",
    "    plt.title(psp_title)\n",
    "     \n",
    "widgets.interact(selectPSP, PSP=options);"
   ]
  },
  {
   "cell_type": "code",
   "execution_count": null,
   "metadata": {},
   "outputs": [],
   "source": []
  },
  {
   "cell_type": "code",
   "execution_count": null,
   "metadata": {},
   "outputs": [],
   "source": []
  }
 ],
 "metadata": {
  "kernelspec": {
   "display_name": "Python 3",
   "language": "python",
   "name": "python3"
  },
  "language_info": {
   "codemirror_mode": {
    "name": "ipython",
    "version": 3
   },
   "file_extension": ".py",
   "mimetype": "text/x-python",
   "name": "python",
   "nbconvert_exporter": "python",
   "pygments_lexer": "ipython3",
   "version": "3.8.5"
  }
 },
 "nbformat": 4,
 "nbformat_minor": 4
}
